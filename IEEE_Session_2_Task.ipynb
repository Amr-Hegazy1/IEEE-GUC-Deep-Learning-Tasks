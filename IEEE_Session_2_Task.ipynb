{
  "nbformat": 4,
  "nbformat_minor": 0,
  "metadata": {
    "colab": {
      "provenance": []
    },
    "kernelspec": {
      "name": "python3",
      "display_name": "Python 3"
    },
    "language_info": {
      "name": "python"
    }
  },
  "cells": [
    {
      "cell_type": "markdown",
      "source": [
        "In this notebook, we're going to use Pytorch to train a linear regression model. \n",
        "\n",
        "This task won't be exploring the real power of deep neural networks (we won't have any hidden layers so it's not \"deep\" and it can't represent nonlinear relationships in the data.\n",
        "\n",
        "The code, however, is very much similar to what deep neural network code looks like, that is, most of the code you use here you will be useful when writing code for a deep neural network. \n",
        "\n",
        "This task just helps get you familiar with the main steps of defining and training a neural network in Pytorch."
      ],
      "metadata": {
        "id": "QJAEpc9Dl1LM"
      }
    },
    {
      "cell_type": "markdown",
      "source": [
        "We'll start by importing PyTorch and its related packages "
      ],
      "metadata": {
        "id": "wjcVBKkeM1gg"
      }
    },
    {
      "cell_type": "code",
      "execution_count": 64,
      "metadata": {
        "id": "tjwdORfGlgzH",
        "colab": {
          "base_uri": "https://localhost:8080/",
          "height": 35
        },
        "outputId": "caf1ab96-e626-4c7b-9fa4-f0c2f9a17835"
      },
      "outputs": [
        {
          "output_type": "execute_result",
          "data": {
            "text/plain": [
              "'cpu'"
            ],
            "application/vnd.google.colaboratory.intrinsic+json": {
              "type": "string"
            }
          },
          "metadata": {},
          "execution_count": 64
        }
      ],
      "source": [
        "import torch\n",
        "import torch.nn as nn \n",
        "import torch.optim as optim\n",
        "from torch.utils.data import Dataset, DataLoader\n",
        "\n",
        "import matplotlib.pyplot as plt\n",
        "\n",
        "# set default device based on CUDA's availability\n",
        "device = 'cuda' if torch.cuda.is_available() else 'cpu'\n",
        "device\n"
      ]
    },
    {
      "cell_type": "markdown",
      "source": [
        "We'll generate a synthetic dataset with known parameters so we can test if out Linear Regression Neural Network model will find the same parameters (which means close enough parameters since the model can't find the exact same parameters due to numerical precision)\n",
        "\n",
        "Do note that the target variable we're predicting is not the exact same as the function we have defined. This is because we inject Gaussian noise to the target variable Why? Because when observing a variable in the real world there's always a chance for observation error (like taking measurements using a microscope). We account for those changes (noise) by adding random numbers to each example, sampled from a normal (Gaussian) distrubution.\n",
        "\n",
        "We here choose a mean of 0 and a standard deviation of 0.1. Which means we multiply the output of torch.randn (which has a mean of 0 and a standard deviation of 1) by 0.1."
      ],
      "metadata": {
        "id": "8O54qC3JNV9Y"
      }
    },
    {
      "cell_type": "markdown",
      "source": [
        "**Q1: Define the X, Y and noise variables**"
      ],
      "metadata": {
        "id": "ypdgiwpNvk8V"
      }
    },
    {
      "cell_type": "code",
      "source": [
        "num_inputs = 2 #Number of features we'll generate\n",
        "num_outputs = 1 #We only have one output\n",
        "num_examples = 10_000 #We'll generate 10,000 examples\n",
        "dtype = torch.float\n",
        "\n",
        "#Define a function with 2 and -3.4 as parameters, 4.2 as bias\n",
        "def real_fn(X):\n",
        "    return 2 * X[:, 0] - 3.4 * X[:, 1] + 4.2\n",
        "\n",
        "#TODO: Generate training dataset consisting of random numbers\n",
        "#Use torch.randn to generate an array of shape (num_examples, num_inputs)\n",
        "X = torch.randn((num_examples, num_inputs))\n",
        "\n",
        "\n",
        "#TODO: Add some Gaussian noise to the dataset\n",
        "#Use torch.randn to generate an array of shape (num_examples)\n",
        "#Multiply that array by 0.1 to change the standard deviation of the noise to .1\n",
        "noise = 0.1 * torch.rand((num_examples, num_inputs))\n",
        "#TODO: Generate target variable using our function and the noise\n",
        "# y is the output of applying real_fn to X and adding the noise\n",
        "# Also reshape y to be of shape (-1, 1)\n",
        "y = real_fn(X + noise).reshape((-1,1))"
      ],
      "metadata": {
        "id": "olsIAPU0LvfZ"
      },
      "execution_count": 65,
      "outputs": []
    },
    {
      "cell_type": "markdown",
      "source": [
        "Now we can inspect the values of our training dataset and target variable, as well the true function we're predicting (without the added noise)"
      ],
      "metadata": {
        "id": "HtKCz1TeuziE"
      }
    },
    {
      "cell_type": "code",
      "source": [
        "print(X[0]) #Sample from training set\n",
        "print(y[0]) #Corresponding target variable\n",
        "print(2 * X[0, 0] - 3.4 * X[0, 1] + 4.2) #Actual function value\n"
      ],
      "metadata": {
        "id": "B1akcJ3-Lxv8",
        "colab": {
          "base_uri": "https://localhost:8080/"
        },
        "outputId": "012caf31-78d8-479a-a735-cd6c9c775ddc"
      },
      "execution_count": 66,
      "outputs": [
        {
          "output_type": "stream",
          "name": "stdout",
          "text": [
            "tensor([0.6864, 0.6974])\n",
            "tensor([2.9733])\n",
            "tensor(3.2016)\n"
          ]
        }
      ]
    },
    {
      "cell_type": "markdown",
      "source": [
        "We can also plot our training dataset against the target variable"
      ],
      "metadata": {
        "id": "1HpKFZrQyV4m"
      }
    },
    {
      "cell_type": "code",
      "source": [
        "plt.scatter(X[:, 0].cpu().numpy(), y.cpu().numpy())\n",
        "plt.show()"
      ],
      "metadata": {
        "id": "GRUDT0s5LzuM",
        "colab": {
          "base_uri": "https://localhost:8080/",
          "height": 268
        },
        "outputId": "b7405a1a-0a1f-4f80-ec86-da9dba29590a"
      },
      "execution_count": 67,
      "outputs": [
        {
          "output_type": "display_data",
          "data": {
            "text/plain": [
              "<Figure size 432x288 with 1 Axes>"
            ],
            "image/png": "[encoded data removed]"
          },
          "metadata": {
            "needs_background": "light"
          }
        }
      ]
    },
    {
      "cell_type": "markdown",
      "source": [
        "Next we'll define a very simple class to load the data, it loads the data, then defines the `__len__` method to get its size and the `__getitem__` method to get a single example and its ground truth"
      ],
      "metadata": {
        "id": "b7CK9iPFlv60"
      }
    },
    {
      "cell_type": "code",
      "source": [
        "class LinearDataset(Dataset):\n",
        "    def __init__(self, X, y):\n",
        "        assert X.size()[0] == y.size()[0]\n",
        "        self.X = X\n",
        "        self.y = y\n",
        "    \n",
        "    def __len__(self):\n",
        "        return X.size()[0]\n",
        "    \n",
        "    def __getitem__(self, idx):\n",
        "        return [X[idx], y[idx]]\n"
      ],
      "metadata": {
        "id": "wmgfmh8uL00K"
      },
      "execution_count": 68,
      "outputs": []
    },
    {
      "cell_type": "markdown",
      "source": [
        "We'll use PyTorch's `DataLoader` class to generate the dataloader for our training data. We give it as input an instance of our dataset and specify the `batch_size` and set `shuffle=True` so that it provides batches in random order. "
      ],
      "metadata": {
        "id": "57zJc2_QyfK_"
      }
    },
    {
      "cell_type": "code",
      "source": [
        "batch_size = 4\n",
        "train_dataloader = DataLoader(LinearDataset(X, y), batch_size=batch_size, shuffle=True)\n"
      ],
      "metadata": {
        "id": "YDy_UQnNL3EV"
      },
      "execution_count": 69,
      "outputs": []
    },
    {
      "cell_type": "markdown",
      "source": [
        "We can now loop through the dataloader to get batches of data at each iteration. "
      ],
      "metadata": {
        "id": "-0nQ2OSHy5c1"
      }
    },
    {
      "cell_type": "code",
      "source": [
        "for i, (data, label) in enumerate(train_dataloader):\n",
        "    print(data)\n",
        "    print(label)\n",
        "    break\n"
      ],
      "metadata": {
        "id": "P8O6YtB0L4fM",
        "colab": {
          "base_uri": "https://localhost:8080/"
        },
        "outputId": "0bb966c4-90e9-4bca-8531-303309bb9c2b"
      },
      "execution_count": 70,
      "outputs": [
        {
          "output_type": "stream",
          "name": "stdout",
          "text": [
            "tensor([[ 0.2320, -1.7830],\n",
            "        [-0.2652, -1.0233],\n",
            "        [-0.5506, -0.3492],\n",
            "        [-0.1161, -0.9759]])\n",
            "tensor([[10.6670],\n",
            "        [ 6.8756],\n",
            "        [ 4.2165],\n",
            "        [ 7.1319]])\n"
          ]
        }
      ]
    },
    {
      "cell_type": "markdown",
      "source": [
        "Do note that each time we loop through the data, it will have different order. That's because we've set shuffle=True. This helps the model become more robust as it gets batches in a different order in each epoch (pass through the training data so it reduces overfitting."
      ],
      "metadata": {
        "id": "KjXUd5SbzHIF"
      }
    },
    {
      "cell_type": "code",
      "source": [
        "for i, (data, label) in enumerate(train_dataloader):\n",
        "    print(data)\n",
        "    print(label)\n",
        "    break\n"
      ],
      "metadata": {
        "id": "D-gohynkL6Cc",
        "colab": {
          "base_uri": "https://localhost:8080/"
        },
        "outputId": "fd6a6bdf-d2d3-4ddb-c509-e23cf19013f8"
      },
      "execution_count": 71,
      "outputs": [
        {
          "output_type": "stream",
          "name": "stdout",
          "text": [
            "tensor([[-0.8188, -0.0937],\n",
            "        [-0.8525,  1.1692],\n",
            "        [ 0.2735,  0.9303],\n",
            "        [-0.5573,  1.2915]])\n",
            "tensor([[ 2.8078],\n",
            "        [-1.6268],\n",
            "        [ 1.4649],\n",
            "        [-1.2068]])\n"
          ]
        }
      ]
    },
    {
      "cell_type": "markdown",
      "source": [
        "If we count how many iterations we go through in train_dataloader we find that it does 2500 iterations. That's because we have a total of 10,000 examples and a `batch_size` of 4. Changing the batch size should affect the number of iterations, which are generally `number of examples / batch_size`"
      ],
      "metadata": {
        "id": "ICuWFKaPzng9"
      }
    },
    {
      "cell_type": "code",
      "source": [
        "counter = 0\n",
        "for i, (data, label) in enumerate(train_dataloader):\n",
        "    pass\n",
        "print(i + 1)\n"
      ],
      "metadata": {
        "id": "FoC3d55vL75M",
        "colab": {
          "base_uri": "https://localhost:8080/"
        },
        "outputId": "0032461e-7e54-4351-a2f0-56bc79cccdec"
      },
      "execution_count": 72,
      "outputs": [
        {
          "output_type": "stream",
          "name": "stdout",
          "text": [
            "2500\n"
          ]
        }
      ]
    },
    {
      "cell_type": "markdown",
      "source": [
        "**Q2: Define the Linear Regression model using Pytorch**"
      ],
      "metadata": {
        "id": "ITiZ2_EI0BfV"
      }
    },
    {
      "cell_type": "code",
      "source": [
        "class LinearRegression(nn.Module):\n",
        "    def __init__(self, **kwargs):\n",
        "        super(LinearRegression, self).__init__(**kwargs)\n",
        "        #TODO: Use torch's nn.Linear to define a Linear layer \n",
        "        #The layer should have an input of shape 2 and an output of shape 1 \n",
        "        self.dense_1 = nn.Linear(2,1)\n",
        "        \n",
        "    def forward(self, x):\n",
        "        #TODO: Call the self.dense_1 you just defined on x\n",
        "        x = self.dense_1(x)\n",
        "        return x\n",
        "    \n",
        "net = LinearRegression() #TODO: Instantiate the LinearRegression class you just defined\n",
        "net.to(device)\n"
      ],
      "metadata": {
        "id": "eghnXrEKL9Oc",
        "colab": {
          "base_uri": "https://localhost:8080/"
        },
        "outputId": "2f607a25-68a8-42d9-ae56-d411c618fe8b"
      },
      "execution_count": 73,
      "outputs": [
        {
          "output_type": "execute_result",
          "data": {
            "text/plain": [
              "LinearRegression(\n",
              "  (dense_1): Linear(in_features=2, out_features=1, bias=True)\n",
              ")"
            ]
          },
          "metadata": {},
          "execution_count": 73
        }
      ]
    },
    {
      "cell_type": "markdown",
      "source": [
        "**Q3: Use Mean Squared Error loss**"
      ],
      "metadata": {
        "id": "04eG0Fel1CBn"
      }
    },
    {
      "cell_type": "code",
      "source": [
        "loss_fn = nn.MSELoss() #TODO: use nn.MSELoss for the loss function\n"
      ],
      "metadata": {
        "id": "SQuFy87QL-gs"
      },
      "execution_count": 74,
      "outputs": []
    },
    {
      "cell_type": "markdown",
      "source": [
        "**Q4: Use Stochastic Gradient Descent for optimizing the model**"
      ],
      "metadata": {
        "id": "thAjLAkH1HU0"
      }
    },
    {
      "cell_type": "code",
      "source": [
        "optimizer = optim.SGD((X,y), lr=1e-5, momentum=0.9) #TODO: Use optim.SGD with learning rate = 1e-5 and a momentum of 0.9"
      ],
      "metadata": {
        "id": "3S-pwRXSL_vk"
      },
      "execution_count": 75,
      "outputs": []
    },
    {
      "cell_type": "markdown",
      "source": [
        "**Q5: Complete the training loop and train the model**"
      ],
      "metadata": {
        "id": "jUePzAzU1Vo2"
      }
    },
    {
      "cell_type": "code",
      "source": [
        "epochs = 10\n",
        "num_batches = num_examples / batch_size\n",
        "losses = []\n",
        "\n",
        "for epoch in range(epochs):\n",
        "    cumulative_loss = 0\n",
        "    # inner loop\n",
        "    for i, (data, label) in enumerate(train_dataloader):\n",
        "        data = data.to(device)\n",
        "        label = label.to(device)\n",
        "        \n",
        "        yhat = net(data)\n",
        "        loss = loss_fn(data,yhat) #TODO: Call the loss function you defined earlier\n",
        "        \n",
        "        #TODO: Call the zero_grad method of the optimizer you defined\n",
        "        optimizer.zero_grad()\n",
        "        #TODO: Call the backward method of the loss tensor you just calculated\n",
        "        loss.backward()\n",
        "        #TODO: Call the step method of the optimizer \n",
        "        optimizer.step()\n",
        "\n",
        "        cumulative_loss += loss.item()\n",
        "    print(\"Epoch %s, loss: %s\" % (epoch, cumulative_loss / num_examples))\n",
        "    losses.append(cumulative_loss / num_batches)\n"
      ],
      "metadata": {
        "id": "tGjrvueiMArs",
        "colab": {
          "base_uri": "https://localhost:8080/"
        },
        "outputId": "32adfa3a-ad21-4824-ef5b-52d68e3732ee"
      },
      "execution_count": 77,
      "outputs": [
        {
          "output_type": "stream",
          "name": "stderr",
          "text": [
            "/usr/local/lib/python3.8/dist-packages/torch/nn/modules/loss.py:536: UserWarning: Using a target size (torch.Size([4, 1])) that is different to the input size (torch.Size([4, 2])). This will likely lead to incorrect results due to broadcasting. Please ensure they have the same size.\n",
            "  return F.mse_loss(input, target, reduction=self.reduction)\n"
          ]
        },
        {
          "output_type": "stream",
          "name": "stdout",
          "text": [
            "Epoch 0, loss: 0.6032744146510959\n",
            "Epoch 1, loss: 0.6032744142211973\n",
            "Epoch 2, loss: 0.6032744140535593\n",
            "Epoch 3, loss: 0.6032744148343802\n",
            "Epoch 4, loss: 0.603274414151907\n",
            "Epoch 5, loss: 0.6032744146838784\n",
            "Epoch 6, loss: 0.6032744123697281\n",
            "Epoch 7, loss: 0.6032744141057134\n",
            "Epoch 8, loss: 0.6032744149133563\n",
            "Epoch 9, loss: 0.603274412829429\n"
          ]
        }
      ]
    },
    {
      "cell_type": "markdown",
      "source": [
        "Now we can plot the average loss of the model for each epoch it trained."
      ],
      "metadata": {
        "id": "vZ3Xc6Fv2Q5V"
      }
    },
    {
      "cell_type": "code",
      "source": [
        "plt.figure(num=None, figsize=(8, 6))\n",
        "plt.plot(losses)\n",
        "\n",
        "plt.grid(True, which=\"both\")\n",
        "plt.xlabel('epoch', fontsize=14)\n",
        "plt.ylabel('average loss', fontsize=14)\n",
        "plt.show()\n"
      ],
      "metadata": {
        "id": "uABlACFUMCHE",
        "colab": {
          "base_uri": "https://localhost:8080/",
          "height": 403
        },
        "outputId": "be7ee16d-e54b-49da-aead-2cc43e96dfe7"
      },
      "execution_count": 78,
      "outputs": [
        {
          "output_type": "display_data",
          "data": {
            "text/plain": [
              "<Figure size 576x432 with 1 Axes>"
            ],
            "image/png": "[encoded data removed]"
          },
          "metadata": {
            "needs_background": "light"
          }
        }
      ]
    },
    {
      "cell_type": "markdown",
      "source": [
        "Finally we print the parameters of the model. Notice that while it didn't get the exact values we'd set (2,-3.4, and 4.2). It got very close. Of course this is becuase this is a synthetic dataset that's completely linear. Real-life datasets are never this clean, but this serves as a demonstration and introduction to Pytorch and how it can model Linear Regression."
      ],
      "metadata": {
        "id": "1enpyDeo2Xwm"
      }
    },
    {
      "cell_type": "code",
      "source": [
        "params = net.parameters()\n",
        "print('The type of \"params\" is a ', type(params))\n",
        "\n",
        "for name, param in net.named_parameters():\n",
        "    if param.requires_grad:\n",
        "        print(name, param.data)\n"
      ],
      "metadata": {
        "id": "ybp28OMyMFy0",
        "colab": {
          "base_uri": "https://localhost:8080/"
        },
        "outputId": "4f5d5480-ea22-454b-9b39-8cfc30b56352"
      },
      "execution_count": 79,
      "outputs": [
        {
          "output_type": "stream",
          "name": "stdout",
          "text": [
            "The type of \"params\" is a  <class 'generator'>\n",
            "dense_1.weight tensor([[-0.0889, -0.6598]])\n",
            "dense_1.bias tensor([-0.4652])\n"
          ]
        }
      ]
    },
    {
      "cell_type": "markdown",
      "source": [
        "Attribution: This task is based on this [notebook](https://github.com/Kulbear/pytorch-the-hard-way/blob/master/Linear%20Regression.ipynb)."
      ],
      "metadata": {
        "id": "zh4nKe-O4aqU"
      }
    }
  ]
}